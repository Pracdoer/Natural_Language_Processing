{
 "cells": [
  {
   "cell_type": "code",
   "execution_count": 4,
   "metadata": {},
   "outputs": [],
   "source": [
    "from nltk import ngrams"
   ]
  },
  {
   "cell_type": "code",
   "execution_count": 3,
   "metadata": {},
   "outputs": [
    {
     "data": {
      "text/plain": [
       "['i', 'hope', 'you', 'are', 'you', 'are', 'doing', 'well']"
      ]
     },
     "execution_count": 3,
     "metadata": {},
     "output_type": "execute_result"
    }
   ],
   "source": [
    "text = \"i hope you are you are doing well\"\n",
    "words = text.split(' ')\n",
    "words"
   ]
  },
  {
   "cell_type": "code",
   "execution_count": 5,
   "metadata": {},
   "outputs": [
    {
     "data": {
      "text/plain": [
       "'!\"#$%&\\'()*+,-./:;<=>?@[\\\\]^_`{|}~'"
      ]
     },
     "execution_count": 5,
     "metadata": {},
     "output_type": "execute_result"
    }
   ],
   "source": [
    "from string import punctuation as punc\n",
    "punc"
   ]
  },
  {
   "cell_type": "code",
   "execution_count": 6,
   "metadata": {},
   "outputs": [
    {
     "data": {
      "text/plain": [
       "['amoungst',\n",
       " 'couldnt',\n",
       " 'one',\n",
       " 'give',\n",
       " 'neither',\n",
       " 'it',\n",
       " 'somewhere',\n",
       " 'part',\n",
       " 'several',\n",
       " 'have',\n",
       " 'mine',\n",
       " 'being',\n",
       " 'find',\n",
       " 'also',\n",
       " 'in',\n",
       " 'am',\n",
       " 'formerly',\n",
       " 'nevertheless',\n",
       " 'thence',\n",
       " 'whenever',\n",
       " 'made',\n",
       " 'my',\n",
       " 'whereupon',\n",
       " 'hundred',\n",
       " 'except',\n",
       " 'or',\n",
       " 'side',\n",
       " 'nor',\n",
       " 'thick',\n",
       " 'toward',\n",
       " 'keep',\n",
       " 'than',\n",
       " 'whoever',\n",
       " 'more',\n",
       " 'anywhere',\n",
       " 'became',\n",
       " 'into',\n",
       " 'empty',\n",
       " 'up',\n",
       " 'still',\n",
       " 'eleven',\n",
       " 'yet',\n",
       " 'whether',\n",
       " 'its',\n",
       " 'beforehand',\n",
       " 'own',\n",
       " 'two',\n",
       " 'do',\n",
       " 'former',\n",
       " 'be',\n",
       " 'cry',\n",
       " 'against',\n",
       " 'off',\n",
       " 'anything',\n",
       " 'along',\n",
       " 'everything',\n",
       " 'bill',\n",
       " 'fifteen',\n",
       " 'this',\n",
       " 'full',\n",
       " 'will',\n",
       " 'any',\n",
       " 'our',\n",
       " 'we',\n",
       " 'etc',\n",
       " 'call',\n",
       " 'that',\n",
       " 'they',\n",
       " 'sometimes',\n",
       " 'con',\n",
       " 'another',\n",
       " 'five',\n",
       " 'always',\n",
       " 'among',\n",
       " 'indeed',\n",
       " 'describe',\n",
       " 'whereby',\n",
       " 'nobody',\n",
       " 'ltd',\n",
       " 'never',\n",
       " 'myself',\n",
       " 'ever',\n",
       " 'four',\n",
       " 'something',\n",
       " 'therefore',\n",
       " 'how',\n",
       " 'must',\n",
       " 'latter',\n",
       " 'you',\n",
       " 'even',\n",
       " 'take',\n",
       " 'although',\n",
       " 'mostly',\n",
       " 'while',\n",
       " 'others',\n",
       " 'from',\n",
       " 'then',\n",
       " 'themselves',\n",
       " 'whose',\n",
       " 'amongst',\n",
       " 'ours',\n",
       " 'elsewhere',\n",
       " 'besides',\n",
       " 'through',\n",
       " 'those',\n",
       " 'three',\n",
       " 'until',\n",
       " 'should',\n",
       " 'him',\n",
       " 'see',\n",
       " 'least',\n",
       " 'thus',\n",
       " 'interest',\n",
       " 'upon',\n",
       " 'there',\n",
       " 're',\n",
       " 'top',\n",
       " 'behind',\n",
       " 'thereby',\n",
       " 'become',\n",
       " 'each',\n",
       " 'anyone',\n",
       " 'yours',\n",
       " 'is',\n",
       " 'together',\n",
       " 'third',\n",
       " 'wherever',\n",
       " 'hence',\n",
       " 'first',\n",
       " 'latterly',\n",
       " 'hereupon',\n",
       " 'too',\n",
       " 'eg',\n",
       " 'whom',\n",
       " 'next',\n",
       " 'over',\n",
       " 'before',\n",
       " 'not',\n",
       " 'mill',\n",
       " 'otherwise',\n",
       " 'them',\n",
       " 'whither',\n",
       " 'serious',\n",
       " 'thin',\n",
       " 'inc',\n",
       " 'to',\n",
       " 'around',\n",
       " 'thereafter',\n",
       " 'becoming',\n",
       " 'anyway',\n",
       " 'what',\n",
       " 'under',\n",
       " 'very',\n",
       " 'beside',\n",
       " 'almost',\n",
       " 'per',\n",
       " 'further',\n",
       " 'ten',\n",
       " 'everyone',\n",
       " 'are',\n",
       " 'me',\n",
       " 'may',\n",
       " 'could',\n",
       " 'now',\n",
       " 'would',\n",
       " 'sometime',\n",
       " 'himself',\n",
       " 'but',\n",
       " 'all',\n",
       " 'less',\n",
       " 'between',\n",
       " 'towards',\n",
       " 'yourselves',\n",
       " 'us',\n",
       " 'other',\n",
       " 'because',\n",
       " 'these',\n",
       " 'back',\n",
       " 'yourself',\n",
       " 'either',\n",
       " 'bottom',\n",
       " 'about',\n",
       " 'below',\n",
       " 'much',\n",
       " 'please',\n",
       " 'were',\n",
       " 'if',\n",
       " 'which',\n",
       " 'afterwards',\n",
       " 'hereafter',\n",
       " 'during',\n",
       " 'already',\n",
       " 'might',\n",
       " 'get',\n",
       " 'well',\n",
       " 'an',\n",
       " 'else',\n",
       " 'wherein',\n",
       " 'noone',\n",
       " 'hers',\n",
       " 'as',\n",
       " 'alone',\n",
       " 'the',\n",
       " 'who',\n",
       " 'beyond',\n",
       " 'your',\n",
       " 'here',\n",
       " 'front',\n",
       " 'whole',\n",
       " 'since',\n",
       " 'co',\n",
       " 'seem',\n",
       " 'so',\n",
       " 'though',\n",
       " 'has',\n",
       " 'go',\n",
       " 'cannot',\n",
       " 'on',\n",
       " 'seems',\n",
       " 'across',\n",
       " 'after',\n",
       " 'however',\n",
       " 'their',\n",
       " 'with',\n",
       " 'only',\n",
       " 'cant',\n",
       " 'a',\n",
       " 'he',\n",
       " 'six',\n",
       " 'namely',\n",
       " 'been',\n",
       " 'few',\n",
       " 'his',\n",
       " 'rather',\n",
       " 'fifty',\n",
       " 'every',\n",
       " 'same',\n",
       " 'name',\n",
       " 'once',\n",
       " 'via',\n",
       " 'such',\n",
       " 'sincere',\n",
       " 'her',\n",
       " 'done',\n",
       " 'most',\n",
       " 'some',\n",
       " 'down',\n",
       " 'again',\n",
       " 'twelve',\n",
       " 'for',\n",
       " 'forty',\n",
       " 'ourselves',\n",
       " 'somehow',\n",
       " 'often',\n",
       " 'and',\n",
       " 'out',\n",
       " 'whence',\n",
       " 'fill',\n",
       " 'was',\n",
       " 'onto',\n",
       " 'herself',\n",
       " 'at',\n",
       " 'perhaps',\n",
       " 'system',\n",
       " 'many',\n",
       " 'without',\n",
       " 'why',\n",
       " 'enough',\n",
       " 'whereafter',\n",
       " 'thru',\n",
       " 'nowhere',\n",
       " 'seeming',\n",
       " 'where',\n",
       " 'hereby',\n",
       " 'of',\n",
       " 'fire',\n",
       " 'can',\n",
       " 'someone',\n",
       " 'becomes',\n",
       " 'itself',\n",
       " 'twenty',\n",
       " 'due',\n",
       " 'she',\n",
       " 'above',\n",
       " 'when',\n",
       " 'none',\n",
       " 'moreover',\n",
       " 'last',\n",
       " 'ie',\n",
       " 'show',\n",
       " 'within',\n",
       " 'both',\n",
       " 'nine',\n",
       " 'hasnt',\n",
       " 'move',\n",
       " 'whatever',\n",
       " 'detail',\n",
       " 'i',\n",
       " 'whereas',\n",
       " 'sixty',\n",
       " 'nothing',\n",
       " 'eight',\n",
       " 'found',\n",
       " 'thereupon',\n",
       " 'anyhow',\n",
       " 'herein',\n",
       " 'therein',\n",
       " 'amount',\n",
       " 'seemed',\n",
       " 'put',\n",
       " 'by',\n",
       " 'meanwhile',\n",
       " 'had',\n",
       " 'de',\n",
       " 'un',\n",
       " 'everywhere',\n",
       " 'throughout',\n",
       " 'no']"
      ]
     },
     "execution_count": 6,
     "metadata": {},
     "output_type": "execute_result"
    }
   ],
   "source": [
    "from sklearn.feature_extraction import stop_words\n",
    "list(stop_words.ENGLISH_STOP_WORDS)"
   ]
  },
  {
   "cell_type": "code",
   "execution_count": 7,
   "metadata": {},
   "outputs": [
    {
     "name": "stdout",
     "output_type": "stream",
     "text": [
      "unigrams [('i',), ('hope',), ('you',), ('are',), ('you',), ('are',), ('doing',), ('well',)]\n",
      "bigrams [('i', 'hope'), ('hope', 'you'), ('you', 'are'), ('are', 'you'), ('you', 'are'), ('are', 'doing'), ('doing', 'well')]\n",
      "trigrams [('i', 'hope', 'you'), ('hope', 'you', 'are'), ('you', 'are', 'you'), ('are', 'you', 'are'), ('you', 'are', 'doing'), ('are', 'doing', 'well')]\n"
     ]
    }
   ],
   "source": [
    "#words = words[:100]\n",
    "unigrams = list(ngrams(words, 1))\n",
    "bigrams = list(ngrams(words, 2))\n",
    "trigrams = list(ngrams(words, 3))\n",
    "print(\"unigrams\", unigrams)\n",
    "print(\"bigrams\", bigrams)\n",
    "print(\"trigrams\", trigrams)"
   ]
  },
  {
   "cell_type": "code",
   "execution_count": 8,
   "metadata": {},
   "outputs": [],
   "source": [
    "from nltk.stem import PorterStemmer\n",
    "ps = PorterStemmer()"
   ]
  },
  {
   "cell_type": "code",
   "execution_count": 9,
   "metadata": {},
   "outputs": [
    {
     "name": "stdout",
     "output_type": "stream",
     "text": [
      "i\n",
      "hope\n",
      "you\n",
      "are\n",
      "you\n",
      "are\n",
      "do\n",
      "well\n"
     ]
    }
   ],
   "source": [
    "for word in words:\n",
    "    print(ps.stem(word))"
   ]
  },
  {
   "cell_type": "code",
   "execution_count": 10,
   "metadata": {},
   "outputs": [],
   "source": [
    "from nltk.stem import WordNetLemmatizer\n",
    "wl = WordNetLemmatizer()"
   ]
  },
  {
   "cell_type": "code",
   "execution_count": 13,
   "metadata": {},
   "outputs": [
    {
     "name": "stdout",
     "output_type": "stream",
     "text": [
      "i\n",
      "hope\n",
      "you\n",
      "be\n",
      "you\n",
      "be\n",
      "do\n",
      "well\n"
     ]
    },
    {
     "name": "stderr",
     "output_type": "stream",
     "text": [
      "[nltk_data] Downloading package averaged_perceptron_tagger to\n",
      "[nltk_data]     /home/mebi/nltk_data...\n",
      "[nltk_data]   Unzipping taggers/averaged_perceptron_tagger.zip.\n"
     ]
    },
    {
     "data": {
      "text/plain": [
       "True"
      ]
     },
     "execution_count": 13,
     "metadata": {},
     "output_type": "execute_result"
    }
   ],
   "source": [
    "for word in words:\n",
    "    print(wl.lemmatize(word, 'v'))\n",
    "    \n",
    "import nltk\n",
    "nltk.download('averaged_perceptron_tagger')\n"
   ]
  },
  {
   "cell_type": "code",
   "execution_count": 14,
   "metadata": {},
   "outputs": [
    {
     "data": {
      "text/plain": [
       "[('i', 'NNS'),\n",
       " ('hope', 'VBP'),\n",
       " ('you', 'PRP'),\n",
       " ('are', 'VBP'),\n",
       " ('you', 'PRP'),\n",
       " ('are', 'VBP'),\n",
       " ('doing', 'VBG'),\n",
       " ('well', 'RB')]"
      ]
     },
     "execution_count": 14,
     "metadata": {},
     "output_type": "execute_result"
    }
   ],
   "source": [
    "from nltk import pos_tag\n",
    "tags = pos_tag(words)\n",
    "tags"
   ]
  },
  {
   "cell_type": "code",
   "execution_count": null,
   "metadata": {},
   "outputs": [],
   "source": [
    "import nltk\n",
    "nltk.download('averaged_perceptron_tagger')"
   ]
  },
  {
   "cell_type": "code",
   "execution_count": null,
   "metadata": {},
   "outputs": [],
   "source": [
    "import nltk\n",
    "nltk.download('wordnet')"
   ]
  },
  {
   "cell_type": "code",
   "execution_count": 15,
   "metadata": {},
   "outputs": [
    {
     "name": "stdout",
     "output_type": "stream",
     "text": [
      "unigrams:  [('i',), ('hope',), ('you',), ('are',), ('you',), ('are',), ('doing',), ('well',)]\n",
      "bigrams:  [('i', 'hope'), ('hope', 'you'), ('you', 'are'), ('are', 'you'), ('you', 'are'), ('are', 'doing'), ('doing', 'well')]\n",
      "trigrams:  [('i', 'hope', 'you'), ('hope', 'you', 'are'), ('you', 'are', 'you'), ('are', 'you', 'are'), ('you', 'are', 'doing'), ('are', 'doing', 'well')]\n"
     ]
    }
   ],
   "source": [
    "print('unigrams: ', unigrams)\n",
    "print('bigrams: ', bigrams)\n",
    "print('trigrams: ', trigrams)"
   ]
  },
  {
   "cell_type": "code",
   "execution_count": 16,
   "metadata": {},
   "outputs": [
    {
     "data": {
      "text/plain": [
       "[0.16666666666666666,\n",
       " 0.16666666666666666,\n",
       " 0.3333333333333333,\n",
       " 0.3333333333333333,\n",
       " 0.3333333333333333,\n",
       " 0.3333333333333333,\n",
       " 0.16666666666666666,\n",
       " 0.16666666666666666]"
      ]
     },
     "execution_count": 16,
     "metadata": {},
     "output_type": "execute_result"
    }
   ],
   "source": [
    "unigrams_freq = [words.count(x)/len(set(words)) for x in words]\n",
    "unigrams_freq"
   ]
  },
  {
   "cell_type": "code",
   "execution_count": 17,
   "metadata": {},
   "outputs": [
    {
     "data": {
      "text/plain": [
       "('i', 'hope')"
      ]
     },
     "execution_count": 17,
     "metadata": {},
     "output_type": "execute_result"
    }
   ],
   "source": [
    "bigrams[0]"
   ]
  },
  {
   "cell_type": "code",
   "execution_count": 18,
   "metadata": {},
   "outputs": [
    {
     "data": {
      "text/plain": [
       "[1.0, 1.0, 1.0, 0.5, 1.0, 0.5, 1.0]"
      ]
     },
     "execution_count": 18,
     "metadata": {},
     "output_type": "execute_result"
    }
   ],
   "source": [
    "bigrams_freq = []\n",
    "for b in bigrams:\n",
    "    temp = bigrams.count(b)\n",
    "    temp2 = words.count(b[0])\n",
    "    bigrams_freq.append(temp/temp2)\n",
    "bigrams_freq    "
   ]
  },
  {
   "cell_type": "code",
   "execution_count": 19,
   "metadata": {},
   "outputs": [
    {
     "data": {
      "text/plain": [
       "[1.0, 1.0, 0.5, 1.0, 0.5, 1.0]"
      ]
     },
     "execution_count": 19,
     "metadata": {},
     "output_type": "execute_result"
    }
   ],
   "source": [
    "trigrams_freq = [trigrams.count(x)/bigrams.count(x[:2]) for x in trigrams]\n",
    "trigrams_freq"
   ]
  },
  {
   "cell_type": "code",
   "execution_count": 20,
   "metadata": {},
   "outputs": [],
   "source": [
    "from nltk.corpus import brown"
   ]
  },
  {
   "cell_type": "code",
   "execution_count": 21,
   "metadata": {},
   "outputs": [
    {
     "ename": "LookupError",
     "evalue": "\n**********************************************************************\n  Resource \u001b[93mbrown\u001b[0m not found.\n  Please use the NLTK Downloader to obtain the resource:\n\n  \u001b[31m>>> import nltk\n  >>> nltk.download('brown')\n  \u001b[0m\n  Attempted to load \u001b[93mcorpora/brown\u001b[0m\n\n  Searched in:\n    - '/home/mebi/nltk_data'\n    - '/home/mebi/anaconda3/nltk_data'\n    - '/home/mebi/anaconda3/share/nltk_data'\n    - '/home/mebi/anaconda3/lib/nltk_data'\n    - '/usr/share/nltk_data'\n    - '/usr/local/share/nltk_data'\n    - '/usr/lib/nltk_data'\n    - '/usr/local/lib/nltk_data'\n**********************************************************************\n",
     "output_type": "error",
     "traceback": [
      "\u001b[0;31m---------------------------------------------------------------------------\u001b[0m",
      "\u001b[0;31mLookupError\u001b[0m                               Traceback (most recent call last)",
      "\u001b[0;32m~/anaconda3/lib/python3.7/site-packages/nltk/corpus/util.py\u001b[0m in \u001b[0;36m__load\u001b[0;34m(self)\u001b[0m\n\u001b[1;32m     85\u001b[0m                 \u001b[0;32mtry\u001b[0m\u001b[0;34m:\u001b[0m\u001b[0;34m\u001b[0m\u001b[0;34m\u001b[0m\u001b[0m\n\u001b[0;32m---> 86\u001b[0;31m                     \u001b[0mroot\u001b[0m \u001b[0;34m=\u001b[0m \u001b[0mnltk\u001b[0m\u001b[0;34m.\u001b[0m\u001b[0mdata\u001b[0m\u001b[0;34m.\u001b[0m\u001b[0mfind\u001b[0m\u001b[0;34m(\u001b[0m\u001b[0;34m'{}/{}'\u001b[0m\u001b[0;34m.\u001b[0m\u001b[0mformat\u001b[0m\u001b[0;34m(\u001b[0m\u001b[0mself\u001b[0m\u001b[0;34m.\u001b[0m\u001b[0msubdir\u001b[0m\u001b[0;34m,\u001b[0m \u001b[0mzip_name\u001b[0m\u001b[0;34m)\u001b[0m\u001b[0;34m)\u001b[0m\u001b[0;34m\u001b[0m\u001b[0;34m\u001b[0m\u001b[0m\n\u001b[0m\u001b[1;32m     87\u001b[0m                 \u001b[0;32mexcept\u001b[0m \u001b[0mLookupError\u001b[0m\u001b[0;34m:\u001b[0m\u001b[0;34m\u001b[0m\u001b[0;34m\u001b[0m\u001b[0m\n",
      "\u001b[0;32m~/anaconda3/lib/python3.7/site-packages/nltk/data.py\u001b[0m in \u001b[0;36mfind\u001b[0;34m(resource_name, paths)\u001b[0m\n\u001b[1;32m    698\u001b[0m     \u001b[0mresource_not_found\u001b[0m \u001b[0;34m=\u001b[0m \u001b[0;34m'\\n%s\\n%s\\n%s\\n'\u001b[0m \u001b[0;34m%\u001b[0m \u001b[0;34m(\u001b[0m\u001b[0msep\u001b[0m\u001b[0;34m,\u001b[0m \u001b[0mmsg\u001b[0m\u001b[0;34m,\u001b[0m \u001b[0msep\u001b[0m\u001b[0;34m)\u001b[0m\u001b[0;34m\u001b[0m\u001b[0;34m\u001b[0m\u001b[0m\n\u001b[0;32m--> 699\u001b[0;31m     \u001b[0;32mraise\u001b[0m \u001b[0mLookupError\u001b[0m\u001b[0;34m(\u001b[0m\u001b[0mresource_not_found\u001b[0m\u001b[0;34m)\u001b[0m\u001b[0;34m\u001b[0m\u001b[0;34m\u001b[0m\u001b[0m\n\u001b[0m\u001b[1;32m    700\u001b[0m \u001b[0;34m\u001b[0m\u001b[0m\n",
      "\u001b[0;31mLookupError\u001b[0m: \n**********************************************************************\n  Resource \u001b[93mbrown\u001b[0m not found.\n  Please use the NLTK Downloader to obtain the resource:\n\n  \u001b[31m>>> import nltk\n  >>> nltk.download('brown')\n  \u001b[0m\n  Attempted to load \u001b[93mcorpora/brown.zip/brown/\u001b[0m\n\n  Searched in:\n    - '/home/mebi/nltk_data'\n    - '/home/mebi/anaconda3/nltk_data'\n    - '/home/mebi/anaconda3/share/nltk_data'\n    - '/home/mebi/anaconda3/lib/nltk_data'\n    - '/usr/share/nltk_data'\n    - '/usr/local/share/nltk_data'\n    - '/usr/lib/nltk_data'\n    - '/usr/local/lib/nltk_data'\n**********************************************************************\n",
      "\nDuring handling of the above exception, another exception occurred:\n",
      "\u001b[0;31mLookupError\u001b[0m                               Traceback (most recent call last)",
      "\u001b[0;32m<ipython-input-21-bc96f2d50bf7>\u001b[0m in \u001b[0;36m<module>\u001b[0;34m\u001b[0m\n\u001b[0;32m----> 1\u001b[0;31m \u001b[0mwords\u001b[0m \u001b[0;34m=\u001b[0m \u001b[0mbrown\u001b[0m\u001b[0;34m.\u001b[0m\u001b[0mwords\u001b[0m\u001b[0;34m(\u001b[0m\u001b[0mcategories\u001b[0m \u001b[0;34m=\u001b[0m \u001b[0;34m'news'\u001b[0m\u001b[0;34m)\u001b[0m\u001b[0;34m\u001b[0m\u001b[0;34m\u001b[0m\u001b[0m\n\u001b[0m",
      "\u001b[0;32m~/anaconda3/lib/python3.7/site-packages/nltk/corpus/util.py\u001b[0m in \u001b[0;36m__getattr__\u001b[0;34m(self, attr)\u001b[0m\n\u001b[1;32m    121\u001b[0m             \u001b[0;32mraise\u001b[0m \u001b[0mAttributeError\u001b[0m\u001b[0;34m(\u001b[0m\u001b[0;34m\"LazyCorpusLoader object has no attribute '__bases__'\"\u001b[0m\u001b[0;34m)\u001b[0m\u001b[0;34m\u001b[0m\u001b[0;34m\u001b[0m\u001b[0m\n\u001b[1;32m    122\u001b[0m \u001b[0;34m\u001b[0m\u001b[0m\n\u001b[0;32m--> 123\u001b[0;31m         \u001b[0mself\u001b[0m\u001b[0;34m.\u001b[0m\u001b[0m__load\u001b[0m\u001b[0;34m(\u001b[0m\u001b[0;34m)\u001b[0m\u001b[0;34m\u001b[0m\u001b[0;34m\u001b[0m\u001b[0m\n\u001b[0m\u001b[1;32m    124\u001b[0m         \u001b[0;31m# This looks circular, but its not, since __load() changes our\u001b[0m\u001b[0;34m\u001b[0m\u001b[0;34m\u001b[0m\u001b[0;34m\u001b[0m\u001b[0m\n\u001b[1;32m    125\u001b[0m         \u001b[0;31m# __class__ to something new:\u001b[0m\u001b[0;34m\u001b[0m\u001b[0;34m\u001b[0m\u001b[0;34m\u001b[0m\u001b[0m\n",
      "\u001b[0;32m~/anaconda3/lib/python3.7/site-packages/nltk/corpus/util.py\u001b[0m in \u001b[0;36m__load\u001b[0;34m(self)\u001b[0m\n\u001b[1;32m     86\u001b[0m                     \u001b[0mroot\u001b[0m \u001b[0;34m=\u001b[0m \u001b[0mnltk\u001b[0m\u001b[0;34m.\u001b[0m\u001b[0mdata\u001b[0m\u001b[0;34m.\u001b[0m\u001b[0mfind\u001b[0m\u001b[0;34m(\u001b[0m\u001b[0;34m'{}/{}'\u001b[0m\u001b[0;34m.\u001b[0m\u001b[0mformat\u001b[0m\u001b[0;34m(\u001b[0m\u001b[0mself\u001b[0m\u001b[0;34m.\u001b[0m\u001b[0msubdir\u001b[0m\u001b[0;34m,\u001b[0m \u001b[0mzip_name\u001b[0m\u001b[0;34m)\u001b[0m\u001b[0;34m)\u001b[0m\u001b[0;34m\u001b[0m\u001b[0;34m\u001b[0m\u001b[0m\n\u001b[1;32m     87\u001b[0m                 \u001b[0;32mexcept\u001b[0m \u001b[0mLookupError\u001b[0m\u001b[0;34m:\u001b[0m\u001b[0;34m\u001b[0m\u001b[0;34m\u001b[0m\u001b[0m\n\u001b[0;32m---> 88\u001b[0;31m                     \u001b[0;32mraise\u001b[0m \u001b[0me\u001b[0m\u001b[0;34m\u001b[0m\u001b[0;34m\u001b[0m\u001b[0m\n\u001b[0m\u001b[1;32m     89\u001b[0m \u001b[0;34m\u001b[0m\u001b[0m\n\u001b[1;32m     90\u001b[0m         \u001b[0;31m# Load the corpus.\u001b[0m\u001b[0;34m\u001b[0m\u001b[0;34m\u001b[0m\u001b[0;34m\u001b[0m\u001b[0m\n",
      "\u001b[0;32m~/anaconda3/lib/python3.7/site-packages/nltk/corpus/util.py\u001b[0m in \u001b[0;36m__load\u001b[0;34m(self)\u001b[0m\n\u001b[1;32m     81\u001b[0m         \u001b[0;32melse\u001b[0m\u001b[0;34m:\u001b[0m\u001b[0;34m\u001b[0m\u001b[0;34m\u001b[0m\u001b[0m\n\u001b[1;32m     82\u001b[0m             \u001b[0;32mtry\u001b[0m\u001b[0;34m:\u001b[0m\u001b[0;34m\u001b[0m\u001b[0;34m\u001b[0m\u001b[0m\n\u001b[0;32m---> 83\u001b[0;31m                 \u001b[0mroot\u001b[0m \u001b[0;34m=\u001b[0m \u001b[0mnltk\u001b[0m\u001b[0;34m.\u001b[0m\u001b[0mdata\u001b[0m\u001b[0;34m.\u001b[0m\u001b[0mfind\u001b[0m\u001b[0;34m(\u001b[0m\u001b[0;34m'{}/{}'\u001b[0m\u001b[0;34m.\u001b[0m\u001b[0mformat\u001b[0m\u001b[0;34m(\u001b[0m\u001b[0mself\u001b[0m\u001b[0;34m.\u001b[0m\u001b[0msubdir\u001b[0m\u001b[0;34m,\u001b[0m \u001b[0mself\u001b[0m\u001b[0;34m.\u001b[0m\u001b[0m__name\u001b[0m\u001b[0;34m)\u001b[0m\u001b[0;34m)\u001b[0m\u001b[0;34m\u001b[0m\u001b[0;34m\u001b[0m\u001b[0m\n\u001b[0m\u001b[1;32m     84\u001b[0m             \u001b[0;32mexcept\u001b[0m \u001b[0mLookupError\u001b[0m \u001b[0;32mas\u001b[0m \u001b[0me\u001b[0m\u001b[0;34m:\u001b[0m\u001b[0;34m\u001b[0m\u001b[0;34m\u001b[0m\u001b[0m\n\u001b[1;32m     85\u001b[0m                 \u001b[0;32mtry\u001b[0m\u001b[0;34m:\u001b[0m\u001b[0;34m\u001b[0m\u001b[0;34m\u001b[0m\u001b[0m\n",
      "\u001b[0;32m~/anaconda3/lib/python3.7/site-packages/nltk/data.py\u001b[0m in \u001b[0;36mfind\u001b[0;34m(resource_name, paths)\u001b[0m\n\u001b[1;32m    697\u001b[0m     \u001b[0msep\u001b[0m \u001b[0;34m=\u001b[0m \u001b[0;34m'*'\u001b[0m \u001b[0;34m*\u001b[0m \u001b[0;36m70\u001b[0m\u001b[0;34m\u001b[0m\u001b[0;34m\u001b[0m\u001b[0m\n\u001b[1;32m    698\u001b[0m     \u001b[0mresource_not_found\u001b[0m \u001b[0;34m=\u001b[0m \u001b[0;34m'\\n%s\\n%s\\n%s\\n'\u001b[0m \u001b[0;34m%\u001b[0m \u001b[0;34m(\u001b[0m\u001b[0msep\u001b[0m\u001b[0;34m,\u001b[0m \u001b[0mmsg\u001b[0m\u001b[0;34m,\u001b[0m \u001b[0msep\u001b[0m\u001b[0;34m)\u001b[0m\u001b[0;34m\u001b[0m\u001b[0;34m\u001b[0m\u001b[0m\n\u001b[0;32m--> 699\u001b[0;31m     \u001b[0;32mraise\u001b[0m \u001b[0mLookupError\u001b[0m\u001b[0;34m(\u001b[0m\u001b[0mresource_not_found\u001b[0m\u001b[0;34m)\u001b[0m\u001b[0;34m\u001b[0m\u001b[0;34m\u001b[0m\u001b[0m\n\u001b[0m\u001b[1;32m    700\u001b[0m \u001b[0;34m\u001b[0m\u001b[0m\n\u001b[1;32m    701\u001b[0m \u001b[0;34m\u001b[0m\u001b[0m\n",
      "\u001b[0;31mLookupError\u001b[0m: \n**********************************************************************\n  Resource \u001b[93mbrown\u001b[0m not found.\n  Please use the NLTK Downloader to obtain the resource:\n\n  \u001b[31m>>> import nltk\n  >>> nltk.download('brown')\n  \u001b[0m\n  Attempted to load \u001b[93mcorpora/brown\u001b[0m\n\n  Searched in:\n    - '/home/mebi/nltk_data'\n    - '/home/mebi/anaconda3/nltk_data'\n    - '/home/mebi/anaconda3/share/nltk_data'\n    - '/home/mebi/anaconda3/lib/nltk_data'\n    - '/usr/share/nltk_data'\n    - '/usr/local/share/nltk_data'\n    - '/usr/lib/nltk_data'\n    - '/usr/local/lib/nltk_data'\n**********************************************************************\n"
     ]
    }
   ],
   "source": [
    "words = brown.words(categories = 'news')"
   ]
  },
  {
   "cell_type": "code",
   "execution_count": 2,
   "metadata": {},
   "outputs": [],
   "source": [
    "#len(words)\n",
    "\n",
    "inputData = []\n",
    "inputData.append('the instructor be a little annoying , she be make much love to the camera way too often . find it very distracting and uncomfortable , however it feel like a work out . as long as you do not mind some woman make sexy eye at you , you will like this video .')\n"
   ]
  },
  {
   "cell_type": "code",
   "execution_count": 3,
   "metadata": {},
   "outputs": [],
   "source": [
    "def stemming(inp):\n",
    "\tinp2 = []\n",
    "\tfor row in inp: \n",
    "\t\tfor i in row:\n",
    "\t\t\tps.stem(i)\n",
    "\t\tinp2.append(row)\n",
    "\t\t# row = [ps.stem(i) for i in row]\n",
    "\t\t# inp2.append[row]\n",
    "\treturn inp2\n",
    "# inputData = []\n",
    "# inputData.append('the i nstructor be a little annoying , she be make much love to the camera way too often . find it very distracting and uncomfortable , however it feel like a work out . as long as you do not mind some woman make sexy eye at you , you will like this video .')\n",
    "\n",
    "inputData = stemming(inputData)"
   ]
  },
  {
   "cell_type": "code",
   "execution_count": 4,
   "metadata": {},
   "outputs": [
    {
     "data": {
      "text/plain": [
       "['the instructor be a little annoying , she be make much love to the camera way too often . find it very distracting and uncomfortable , however it feel like a work out . as long as you do not mind some woman make sexy eye at you , you will like this video .']"
      ]
     },
     "execution_count": 4,
     "metadata": {},
     "output_type": "execute_result"
    }
   ],
   "source": [
    "inputData"
   ]
  },
  {
   "cell_type": "code",
   "execution_count": null,
   "metadata": {},
   "outputs": [],
   "source": []
  }
 ],
 "metadata": {
  "kernelspec": {
   "display_name": "Python 3",
   "language": "python",
   "name": "python3"
  },
  "language_info": {
   "codemirror_mode": {
    "name": "ipython",
    "version": 3
   },
   "file_extension": ".py",
   "mimetype": "text/x-python",
   "name": "python",
   "nbconvert_exporter": "python",
   "pygments_lexer": "ipython3",
   "version": "3.7.3"
  }
 },
 "nbformat": 4,
 "nbformat_minor": 4
}
